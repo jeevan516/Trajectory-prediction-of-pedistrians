{
 "cells": [
  {
   "cell_type": "code",
   "execution_count": 57,
   "metadata": {
    "id": "AfiNY--XVA7x"
   },
   "outputs": [],
   "source": [
    "import pandas as pd\n",
    "import numpy as np\n",
    "import matplotlib.pyplot as plt\n",
    "import seaborn as sns\n",
    "from sklearn.preprocessing import normalize\n",
    "from keras.models import load_model"
   ]
  },
  {
   "cell_type": "code",
   "execution_count": 58,
   "metadata": {
    "id": "cpX3ySReWVD4"
   },
   "outputs": [],
   "source": [
    "data = pd.read_csv('content/drive/MyDrive/Project/merged_data.csv')"
   ]
  },
  {
   "cell_type": "code",
   "execution_count": 59,
   "metadata": {
    "colab": {
     "base_uri": "https://localhost:8080/",
     "height": 287
    },
    "id": "yGiMSUapN0PP",
    "outputId": "16d22022-f858-41b6-9612-c338a091b615"
   },
   "outputs": [
    {
     "data": {
      "text/html": [
       "\n",
       "  <div id=\"df-54f47c10-1cb1-45f7-96e7-7e2c4e5117de\">\n",
       "    <div class=\"colab-df-container\">\n",
       "      <div>\n",
       "<style scoped>\n",
       "    .dataframe tbody tr th:only-of-type {\n",
       "        vertical-align: middle;\n",
       "    }\n",
       "\n",
       "    .dataframe tbody tr th {\n",
       "        vertical-align: top;\n",
       "    }\n",
       "\n",
       "    .dataframe thead th {\n",
       "        text-align: right;\n",
       "    }\n",
       "</style>\n",
       "<table border=\"1\" class=\"dataframe\">\n",
       "  <thead>\n",
       "    <tr style=\"text-align: right;\">\n",
       "      <th></th>\n",
       "      <th>Unnamed: 0</th>\n",
       "      <th>frame_number</th>\n",
       "      <th>pedestrian_ID</th>\n",
       "      <th>pos_x</th>\n",
       "      <th>pos_y</th>\n",
       "      <th>v_x</th>\n",
       "      <th>v_y</th>\n",
       "      <th>Constant_speed</th>\n",
       "      <th>Speed_as_magnitude</th>\n",
       "      <th>euclidean_distance_1_destination</th>\n",
       "      <th>euclidean_distance_2_destination</th>\n",
       "      <th>euclidean_distance_3_destination</th>\n",
       "      <th>euclidean_distance_4_destination</th>\n",
       "      <th>euclidean_distance_with_obstacles</th>\n",
       "      <th>euclidean_distance_neighbor</th>\n",
       "      <th>euclidean_distance_neighbor_group</th>\n",
       "    </tr>\n",
       "  </thead>\n",
       "  <tbody>\n",
       "    <tr>\n",
       "      <th>0</th>\n",
       "      <td>0</td>\n",
       "      <td>780.0</td>\n",
       "      <td>1.0</td>\n",
       "      <td>8.456844</td>\n",
       "      <td>3.588066</td>\n",
       "      <td>1.671714</td>\n",
       "      <td>0.176292</td>\n",
       "      <td>12</td>\n",
       "      <td>9</td>\n",
       "      <td>28.547123</td>\n",
       "      <td>15.453889</td>\n",
       "      <td>17.143920</td>\n",
       "      <td>6.938212</td>\n",
       "      <td>5.905144</td>\n",
       "      <td>0.0</td>\n",
       "      <td>100.0</td>\n",
       "    </tr>\n",
       "    <tr>\n",
       "      <th>1</th>\n",
       "      <td>1</td>\n",
       "      <td>786.0</td>\n",
       "      <td>1.0</td>\n",
       "      <td>9.125530</td>\n",
       "      <td>3.658583</td>\n",
       "      <td>1.662877</td>\n",
       "      <td>0.326723</td>\n",
       "      <td>14</td>\n",
       "      <td>9</td>\n",
       "      <td>29.208351</td>\n",
       "      <td>16.121264</td>\n",
       "      <td>17.699584</td>\n",
       "      <td>6.278376</td>\n",
       "      <td>5.238002</td>\n",
       "      <td>0.0</td>\n",
       "      <td>100.0</td>\n",
       "    </tr>\n",
       "    <tr>\n",
       "      <th>2</th>\n",
       "      <td>2</td>\n",
       "      <td>792.0</td>\n",
       "      <td>1.0</td>\n",
       "      <td>9.787146</td>\n",
       "      <td>3.849445</td>\n",
       "      <td>1.683334</td>\n",
       "      <td>0.371084</td>\n",
       "      <td>15</td>\n",
       "      <td>10</td>\n",
       "      <td>29.854694</td>\n",
       "      <td>16.808820</td>\n",
       "      <td>18.203441</td>\n",
       "      <td>5.590079</td>\n",
       "      <td>4.550138</td>\n",
       "      <td>0.0</td>\n",
       "      <td>100.0</td>\n",
       "    </tr>\n",
       "    <tr>\n",
       "      <th>3</th>\n",
       "      <td>3</td>\n",
       "      <td>798.0</td>\n",
       "      <td>1.0</td>\n",
       "      <td>10.472197</td>\n",
       "      <td>3.955450</td>\n",
       "      <td>1.598568</td>\n",
       "      <td>0.264795</td>\n",
       "      <td>17</td>\n",
       "      <td>11</td>\n",
       "      <td>30.531446</td>\n",
       "      <td>17.500226</td>\n",
       "      <td>18.775961</td>\n",
       "      <td>4.906794</td>\n",
       "      <td>3.859412</td>\n",
       "      <td>0.0</td>\n",
       "      <td>100.0</td>\n",
       "    </tr>\n",
       "    <tr>\n",
       "      <th>4</th>\n",
       "      <td>4</td>\n",
       "      <td>804.0</td>\n",
       "      <td>1.0</td>\n",
       "      <td>11.066000</td>\n",
       "      <td>4.061280</td>\n",
       "      <td>1.574526</td>\n",
       "      <td>0.456390</td>\n",
       "      <td>18</td>\n",
       "      <td>11</td>\n",
       "      <td>31.117833</td>\n",
       "      <td>18.102720</td>\n",
       "      <td>19.272981</td>\n",
       "      <td>4.312196</td>\n",
       "      <td>3.257953</td>\n",
       "      <td>0.0</td>\n",
       "      <td>100.0</td>\n",
       "    </tr>\n",
       "  </tbody>\n",
       "</table>\n",
       "</div>\n",
       "      <button class=\"colab-df-convert\" onclick=\"convertToInteractive('df-54f47c10-1cb1-45f7-96e7-7e2c4e5117de')\"\n",
       "              title=\"Convert this dataframe to an interactive table.\"\n",
       "              style=\"display:none;\">\n",
       "        \n",
       "  <svg xmlns=\"http://www.w3.org/2000/svg\" height=\"24px\"viewBox=\"0 0 24 24\"\n",
       "       width=\"24px\">\n",
       "    <path d=\"M0 0h24v24H0V0z\" fill=\"none\"/>\n",
       "    <path d=\"M18.56 5.44l.94 2.06.94-2.06 2.06-.94-2.06-.94-.94-2.06-.94 2.06-2.06.94zm-11 1L8.5 8.5l.94-2.06 2.06-.94-2.06-.94L8.5 2.5l-.94 2.06-2.06.94zm10 10l.94 2.06.94-2.06 2.06-.94-2.06-.94-.94-2.06-.94 2.06-2.06.94z\"/><path d=\"M17.41 7.96l-1.37-1.37c-.4-.4-.92-.59-1.43-.59-.52 0-1.04.2-1.43.59L10.3 9.45l-7.72 7.72c-.78.78-.78 2.05 0 2.83L4 21.41c.39.39.9.59 1.41.59.51 0 1.02-.2 1.41-.59l7.78-7.78 2.81-2.81c.8-.78.8-2.07 0-2.86zM5.41 20L4 18.59l7.72-7.72 1.47 1.35L5.41 20z\"/>\n",
       "  </svg>\n",
       "      </button>\n",
       "      \n",
       "  <style>\n",
       "    .colab-df-container {\n",
       "      display:flex;\n",
       "      flex-wrap:wrap;\n",
       "      gap: 12px;\n",
       "    }\n",
       "\n",
       "    .colab-df-convert {\n",
       "      background-color: #E8F0FE;\n",
       "      border: none;\n",
       "      border-radius: 50%;\n",
       "      cursor: pointer;\n",
       "      display: none;\n",
       "      fill: #1967D2;\n",
       "      height: 32px;\n",
       "      padding: 0 0 0 0;\n",
       "      width: 32px;\n",
       "    }\n",
       "\n",
       "    .colab-df-convert:hover {\n",
       "      background-color: #E2EBFA;\n",
       "      box-shadow: 0px 1px 2px rgba(60, 64, 67, 0.3), 0px 1px 3px 1px rgba(60, 64, 67, 0.15);\n",
       "      fill: #174EA6;\n",
       "    }\n",
       "\n",
       "    [theme=dark] .colab-df-convert {\n",
       "      background-color: #3B4455;\n",
       "      fill: #D2E3FC;\n",
       "    }\n",
       "\n",
       "    [theme=dark] .colab-df-convert:hover {\n",
       "      background-color: #434B5C;\n",
       "      box-shadow: 0px 1px 3px 1px rgba(0, 0, 0, 0.15);\n",
       "      filter: drop-shadow(0px 1px 2px rgba(0, 0, 0, 0.3));\n",
       "      fill: #FFFFFF;\n",
       "    }\n",
       "  </style>\n",
       "\n",
       "      <script>\n",
       "        const buttonEl =\n",
       "          document.querySelector('#df-54f47c10-1cb1-45f7-96e7-7e2c4e5117de button.colab-df-convert');\n",
       "        buttonEl.style.display =\n",
       "          google.colab.kernel.accessAllowed ? 'block' : 'none';\n",
       "\n",
       "        async function convertToInteractive(key) {\n",
       "          const element = document.querySelector('#df-54f47c10-1cb1-45f7-96e7-7e2c4e5117de');\n",
       "          const dataTable =\n",
       "            await google.colab.kernel.invokeFunction('convertToInteractive',\n",
       "                                                     [key], {});\n",
       "          if (!dataTable) return;\n",
       "\n",
       "          const docLinkHtml = 'Like what you see? Visit the ' +\n",
       "            '<a target=\"_blank\" href=https://colab.research.google.com/notebooks/data_table.ipynb>data table notebook</a>'\n",
       "            + ' to learn more about interactive tables.';\n",
       "          element.innerHTML = '';\n",
       "          dataTable['output_type'] = 'display_data';\n",
       "          await google.colab.output.renderOutput(dataTable, element);\n",
       "          const docLink = document.createElement('div');\n",
       "          docLink.innerHTML = docLinkHtml;\n",
       "          element.appendChild(docLink);\n",
       "        }\n",
       "      </script>\n",
       "    </div>\n",
       "  </div>\n",
       "  "
      ],
      "text/plain": [
       "   Unnamed: 0  frame_number  pedestrian_ID      pos_x     pos_y       v_x  \\\n",
       "0           0         780.0            1.0   8.456844  3.588066  1.671714   \n",
       "1           1         786.0            1.0   9.125530  3.658583  1.662877   \n",
       "2           2         792.0            1.0   9.787146  3.849445  1.683334   \n",
       "3           3         798.0            1.0  10.472197  3.955450  1.598568   \n",
       "4           4         804.0            1.0  11.066000  4.061280  1.574526   \n",
       "\n",
       "        v_y  Constant_speed  Speed_as_magnitude  \\\n",
       "0  0.176292              12                   9   \n",
       "1  0.326723              14                   9   \n",
       "2  0.371084              15                  10   \n",
       "3  0.264795              17                  11   \n",
       "4  0.456390              18                  11   \n",
       "\n",
       "   euclidean_distance_1_destination  euclidean_distance_2_destination  \\\n",
       "0                         28.547123                         15.453889   \n",
       "1                         29.208351                         16.121264   \n",
       "2                         29.854694                         16.808820   \n",
       "3                         30.531446                         17.500226   \n",
       "4                         31.117833                         18.102720   \n",
       "\n",
       "   euclidean_distance_3_destination  euclidean_distance_4_destination  \\\n",
       "0                         17.143920                          6.938212   \n",
       "1                         17.699584                          6.278376   \n",
       "2                         18.203441                          5.590079   \n",
       "3                         18.775961                          4.906794   \n",
       "4                         19.272981                          4.312196   \n",
       "\n",
       "   euclidean_distance_with_obstacles  euclidean_distance_neighbor  \\\n",
       "0                           5.905144                          0.0   \n",
       "1                           5.238002                          0.0   \n",
       "2                           4.550138                          0.0   \n",
       "3                           3.859412                          0.0   \n",
       "4                           3.257953                          0.0   \n",
       "\n",
       "   euclidean_distance_neighbor_group  \n",
       "0                              100.0  \n",
       "1                              100.0  \n",
       "2                              100.0  \n",
       "3                              100.0  \n",
       "4                              100.0  "
      ]
     },
     "execution_count": 59,
     "metadata": {},
     "output_type": "execute_result"
    }
   ],
   "source": [
    "data.head()"
   ]
  },
  {
   "cell_type": "code",
   "execution_count": 60,
   "metadata": {
    "id": "zKvfx4_fOA-L"
   },
   "outputs": [],
   "source": [
    "data.drop(data.columns[0], axis=1, inplace = True)"
   ]
  },
  {
   "cell_type": "code",
   "execution_count": 61,
   "metadata": {
    "colab": {
     "base_uri": "https://localhost:8080/",
     "height": 270
    },
    "id": "htdTtQzROHTo",
    "outputId": "38ea2881-4141-425e-aa6c-0939fab223c9"
   },
   "outputs": [
    {
     "data": {
      "text/html": [
       "\n",
       "  <div id=\"df-aafb723b-ee3e-4e47-94a5-385b788c7096\">\n",
       "    <div class=\"colab-df-container\">\n",
       "      <div>\n",
       "<style scoped>\n",
       "    .dataframe tbody tr th:only-of-type {\n",
       "        vertical-align: middle;\n",
       "    }\n",
       "\n",
       "    .dataframe tbody tr th {\n",
       "        vertical-align: top;\n",
       "    }\n",
       "\n",
       "    .dataframe thead th {\n",
       "        text-align: right;\n",
       "    }\n",
       "</style>\n",
       "<table border=\"1\" class=\"dataframe\">\n",
       "  <thead>\n",
       "    <tr style=\"text-align: right;\">\n",
       "      <th></th>\n",
       "      <th>frame_number</th>\n",
       "      <th>pedestrian_ID</th>\n",
       "      <th>pos_x</th>\n",
       "      <th>pos_y</th>\n",
       "      <th>v_x</th>\n",
       "      <th>v_y</th>\n",
       "      <th>Constant_speed</th>\n",
       "      <th>Speed_as_magnitude</th>\n",
       "      <th>euclidean_distance_1_destination</th>\n",
       "      <th>euclidean_distance_2_destination</th>\n",
       "      <th>euclidean_distance_3_destination</th>\n",
       "      <th>euclidean_distance_4_destination</th>\n",
       "      <th>euclidean_distance_with_obstacles</th>\n",
       "      <th>euclidean_distance_neighbor</th>\n",
       "      <th>euclidean_distance_neighbor_group</th>\n",
       "    </tr>\n",
       "  </thead>\n",
       "  <tbody>\n",
       "    <tr>\n",
       "      <th>0</th>\n",
       "      <td>780.0</td>\n",
       "      <td>1.0</td>\n",
       "      <td>8.456844</td>\n",
       "      <td>3.588066</td>\n",
       "      <td>1.671714</td>\n",
       "      <td>0.176292</td>\n",
       "      <td>12</td>\n",
       "      <td>9</td>\n",
       "      <td>28.547123</td>\n",
       "      <td>15.453889</td>\n",
       "      <td>17.143920</td>\n",
       "      <td>6.938212</td>\n",
       "      <td>5.905144</td>\n",
       "      <td>0.0</td>\n",
       "      <td>100.0</td>\n",
       "    </tr>\n",
       "    <tr>\n",
       "      <th>1</th>\n",
       "      <td>786.0</td>\n",
       "      <td>1.0</td>\n",
       "      <td>9.125530</td>\n",
       "      <td>3.658583</td>\n",
       "      <td>1.662877</td>\n",
       "      <td>0.326723</td>\n",
       "      <td>14</td>\n",
       "      <td>9</td>\n",
       "      <td>29.208351</td>\n",
       "      <td>16.121264</td>\n",
       "      <td>17.699584</td>\n",
       "      <td>6.278376</td>\n",
       "      <td>5.238002</td>\n",
       "      <td>0.0</td>\n",
       "      <td>100.0</td>\n",
       "    </tr>\n",
       "    <tr>\n",
       "      <th>2</th>\n",
       "      <td>792.0</td>\n",
       "      <td>1.0</td>\n",
       "      <td>9.787146</td>\n",
       "      <td>3.849445</td>\n",
       "      <td>1.683334</td>\n",
       "      <td>0.371084</td>\n",
       "      <td>15</td>\n",
       "      <td>10</td>\n",
       "      <td>29.854694</td>\n",
       "      <td>16.808820</td>\n",
       "      <td>18.203441</td>\n",
       "      <td>5.590079</td>\n",
       "      <td>4.550138</td>\n",
       "      <td>0.0</td>\n",
       "      <td>100.0</td>\n",
       "    </tr>\n",
       "    <tr>\n",
       "      <th>3</th>\n",
       "      <td>798.0</td>\n",
       "      <td>1.0</td>\n",
       "      <td>10.472197</td>\n",
       "      <td>3.955450</td>\n",
       "      <td>1.598568</td>\n",
       "      <td>0.264795</td>\n",
       "      <td>17</td>\n",
       "      <td>11</td>\n",
       "      <td>30.531446</td>\n",
       "      <td>17.500226</td>\n",
       "      <td>18.775961</td>\n",
       "      <td>4.906794</td>\n",
       "      <td>3.859412</td>\n",
       "      <td>0.0</td>\n",
       "      <td>100.0</td>\n",
       "    </tr>\n",
       "    <tr>\n",
       "      <th>4</th>\n",
       "      <td>804.0</td>\n",
       "      <td>1.0</td>\n",
       "      <td>11.066000</td>\n",
       "      <td>4.061280</td>\n",
       "      <td>1.574526</td>\n",
       "      <td>0.456390</td>\n",
       "      <td>18</td>\n",
       "      <td>11</td>\n",
       "      <td>31.117833</td>\n",
       "      <td>18.102720</td>\n",
       "      <td>19.272981</td>\n",
       "      <td>4.312196</td>\n",
       "      <td>3.257953</td>\n",
       "      <td>0.0</td>\n",
       "      <td>100.0</td>\n",
       "    </tr>\n",
       "  </tbody>\n",
       "</table>\n",
       "</div>\n",
       "      <button class=\"colab-df-convert\" onclick=\"convertToInteractive('df-aafb723b-ee3e-4e47-94a5-385b788c7096')\"\n",
       "              title=\"Convert this dataframe to an interactive table.\"\n",
       "              style=\"display:none;\">\n",
       "        \n",
       "  <svg xmlns=\"http://www.w3.org/2000/svg\" height=\"24px\"viewBox=\"0 0 24 24\"\n",
       "       width=\"24px\">\n",
       "    <path d=\"M0 0h24v24H0V0z\" fill=\"none\"/>\n",
       "    <path d=\"M18.56 5.44l.94 2.06.94-2.06 2.06-.94-2.06-.94-.94-2.06-.94 2.06-2.06.94zm-11 1L8.5 8.5l.94-2.06 2.06-.94-2.06-.94L8.5 2.5l-.94 2.06-2.06.94zm10 10l.94 2.06.94-2.06 2.06-.94-2.06-.94-.94-2.06-.94 2.06-2.06.94z\"/><path d=\"M17.41 7.96l-1.37-1.37c-.4-.4-.92-.59-1.43-.59-.52 0-1.04.2-1.43.59L10.3 9.45l-7.72 7.72c-.78.78-.78 2.05 0 2.83L4 21.41c.39.39.9.59 1.41.59.51 0 1.02-.2 1.41-.59l7.78-7.78 2.81-2.81c.8-.78.8-2.07 0-2.86zM5.41 20L4 18.59l7.72-7.72 1.47 1.35L5.41 20z\"/>\n",
       "  </svg>\n",
       "      </button>\n",
       "      \n",
       "  <style>\n",
       "    .colab-df-container {\n",
       "      display:flex;\n",
       "      flex-wrap:wrap;\n",
       "      gap: 12px;\n",
       "    }\n",
       "\n",
       "    .colab-df-convert {\n",
       "      background-color: #E8F0FE;\n",
       "      border: none;\n",
       "      border-radius: 50%;\n",
       "      cursor: pointer;\n",
       "      display: none;\n",
       "      fill: #1967D2;\n",
       "      height: 32px;\n",
       "      padding: 0 0 0 0;\n",
       "      width: 32px;\n",
       "    }\n",
       "\n",
       "    .colab-df-convert:hover {\n",
       "      background-color: #E2EBFA;\n",
       "      box-shadow: 0px 1px 2px rgba(60, 64, 67, 0.3), 0px 1px 3px 1px rgba(60, 64, 67, 0.15);\n",
       "      fill: #174EA6;\n",
       "    }\n",
       "\n",
       "    [theme=dark] .colab-df-convert {\n",
       "      background-color: #3B4455;\n",
       "      fill: #D2E3FC;\n",
       "    }\n",
       "\n",
       "    [theme=dark] .colab-df-convert:hover {\n",
       "      background-color: #434B5C;\n",
       "      box-shadow: 0px 1px 3px 1px rgba(0, 0, 0, 0.15);\n",
       "      filter: drop-shadow(0px 1px 2px rgba(0, 0, 0, 0.3));\n",
       "      fill: #FFFFFF;\n",
       "    }\n",
       "  </style>\n",
       "\n",
       "      <script>\n",
       "        const buttonEl =\n",
       "          document.querySelector('#df-aafb723b-ee3e-4e47-94a5-385b788c7096 button.colab-df-convert');\n",
       "        buttonEl.style.display =\n",
       "          google.colab.kernel.accessAllowed ? 'block' : 'none';\n",
       "\n",
       "        async function convertToInteractive(key) {\n",
       "          const element = document.querySelector('#df-aafb723b-ee3e-4e47-94a5-385b788c7096');\n",
       "          const dataTable =\n",
       "            await google.colab.kernel.invokeFunction('convertToInteractive',\n",
       "                                                     [key], {});\n",
       "          if (!dataTable) return;\n",
       "\n",
       "          const docLinkHtml = 'Like what you see? Visit the ' +\n",
       "            '<a target=\"_blank\" href=https://colab.research.google.com/notebooks/data_table.ipynb>data table notebook</a>'\n",
       "            + ' to learn more about interactive tables.';\n",
       "          element.innerHTML = '';\n",
       "          dataTable['output_type'] = 'display_data';\n",
       "          await google.colab.output.renderOutput(dataTable, element);\n",
       "          const docLink = document.createElement('div');\n",
       "          docLink.innerHTML = docLinkHtml;\n",
       "          element.appendChild(docLink);\n",
       "        }\n",
       "      </script>\n",
       "    </div>\n",
       "  </div>\n",
       "  "
      ],
      "text/plain": [
       "   frame_number  pedestrian_ID      pos_x     pos_y       v_x       v_y  \\\n",
       "0         780.0            1.0   8.456844  3.588066  1.671714  0.176292   \n",
       "1         786.0            1.0   9.125530  3.658583  1.662877  0.326723   \n",
       "2         792.0            1.0   9.787146  3.849445  1.683334  0.371084   \n",
       "3         798.0            1.0  10.472197  3.955450  1.598568  0.264795   \n",
       "4         804.0            1.0  11.066000  4.061280  1.574526  0.456390   \n",
       "\n",
       "   Constant_speed  Speed_as_magnitude  euclidean_distance_1_destination  \\\n",
       "0              12                   9                         28.547123   \n",
       "1              14                   9                         29.208351   \n",
       "2              15                  10                         29.854694   \n",
       "3              17                  11                         30.531446   \n",
       "4              18                  11                         31.117833   \n",
       "\n",
       "   euclidean_distance_2_destination  euclidean_distance_3_destination  \\\n",
       "0                         15.453889                         17.143920   \n",
       "1                         16.121264                         17.699584   \n",
       "2                         16.808820                         18.203441   \n",
       "3                         17.500226                         18.775961   \n",
       "4                         18.102720                         19.272981   \n",
       "\n",
       "   euclidean_distance_4_destination  euclidean_distance_with_obstacles  \\\n",
       "0                          6.938212                           5.905144   \n",
       "1                          6.278376                           5.238002   \n",
       "2                          5.590079                           4.550138   \n",
       "3                          4.906794                           3.859412   \n",
       "4                          4.312196                           3.257953   \n",
       "\n",
       "   euclidean_distance_neighbor  euclidean_distance_neighbor_group  \n",
       "0                          0.0                              100.0  \n",
       "1                          0.0                              100.0  \n",
       "2                          0.0                              100.0  \n",
       "3                          0.0                              100.0  \n",
       "4                          0.0                              100.0  "
      ]
     },
     "execution_count": 61,
     "metadata": {},
     "output_type": "execute_result"
    }
   ],
   "source": [
    "data.head()"
   ]
  },
  {
   "cell_type": "code",
   "execution_count": 62,
   "metadata": {
    "id": "XbGv77EDOOY4"
   },
   "outputs": [],
   "source": [
    "columns = ['pedestrian_ID','pos_x','pos_y','v_x', 'v_y',\n",
    "       'euclidean_distance_1_destination', 'euclidean_distance_2_destination',\n",
    "       'euclidean_distance_3_destination', 'euclidean_distance_4_destination',]"
   ]
  },
  {
   "cell_type": "code",
   "execution_count": 63,
   "metadata": {
    "id": "FZU-CMjsPsbg"
   },
   "outputs": [],
   "source": [
    "feature_to_add =  ['v_x', 'v_y',\n",
    "       'euclidean_distance_1_destination', 'euclidean_distance_2_destination',\n",
    "       'euclidean_distance_3_destination', 'euclidean_distance_4_destination',]"
   ]
  },
  {
   "cell_type": "code",
   "execution_count": 64,
   "metadata": {
    "id": "-w5Hxu_NOMrA"
   },
   "outputs": [],
   "source": [
    "new_data = data[columns].copy()"
   ]
  },
  {
   "cell_type": "code",
   "execution_count": 65,
   "metadata": {
    "colab": {
     "base_uri": "https://localhost:8080/",
     "height": 270
    },
    "id": "xGW4vcd7OgFj",
    "outputId": "268fa08e-fcaf-4eb5-9682-223a6e9fce44"
   },
   "outputs": [
    {
     "data": {
      "text/html": [
       "\n",
       "  <div id=\"df-5bf0d033-bd82-4718-aa77-02dabc034508\">\n",
       "    <div class=\"colab-df-container\">\n",
       "      <div>\n",
       "<style scoped>\n",
       "    .dataframe tbody tr th:only-of-type {\n",
       "        vertical-align: middle;\n",
       "    }\n",
       "\n",
       "    .dataframe tbody tr th {\n",
       "        vertical-align: top;\n",
       "    }\n",
       "\n",
       "    .dataframe thead th {\n",
       "        text-align: right;\n",
       "    }\n",
       "</style>\n",
       "<table border=\"1\" class=\"dataframe\">\n",
       "  <thead>\n",
       "    <tr style=\"text-align: right;\">\n",
       "      <th></th>\n",
       "      <th>pedestrian_ID</th>\n",
       "      <th>pos_x</th>\n",
       "      <th>pos_y</th>\n",
       "      <th>v_x</th>\n",
       "      <th>v_y</th>\n",
       "      <th>euclidean_distance_1_destination</th>\n",
       "      <th>euclidean_distance_2_destination</th>\n",
       "      <th>euclidean_distance_3_destination</th>\n",
       "      <th>euclidean_distance_4_destination</th>\n",
       "    </tr>\n",
       "  </thead>\n",
       "  <tbody>\n",
       "    <tr>\n",
       "      <th>0</th>\n",
       "      <td>1.0</td>\n",
       "      <td>8.456844</td>\n",
       "      <td>3.588066</td>\n",
       "      <td>1.671714</td>\n",
       "      <td>0.176292</td>\n",
       "      <td>28.547123</td>\n",
       "      <td>15.453889</td>\n",
       "      <td>17.143920</td>\n",
       "      <td>6.938212</td>\n",
       "    </tr>\n",
       "    <tr>\n",
       "      <th>1</th>\n",
       "      <td>1.0</td>\n",
       "      <td>9.125530</td>\n",
       "      <td>3.658583</td>\n",
       "      <td>1.662877</td>\n",
       "      <td>0.326723</td>\n",
       "      <td>29.208351</td>\n",
       "      <td>16.121264</td>\n",
       "      <td>17.699584</td>\n",
       "      <td>6.278376</td>\n",
       "    </tr>\n",
       "    <tr>\n",
       "      <th>2</th>\n",
       "      <td>1.0</td>\n",
       "      <td>9.787146</td>\n",
       "      <td>3.849445</td>\n",
       "      <td>1.683334</td>\n",
       "      <td>0.371084</td>\n",
       "      <td>29.854694</td>\n",
       "      <td>16.808820</td>\n",
       "      <td>18.203441</td>\n",
       "      <td>5.590079</td>\n",
       "    </tr>\n",
       "    <tr>\n",
       "      <th>3</th>\n",
       "      <td>1.0</td>\n",
       "      <td>10.472197</td>\n",
       "      <td>3.955450</td>\n",
       "      <td>1.598568</td>\n",
       "      <td>0.264795</td>\n",
       "      <td>30.531446</td>\n",
       "      <td>17.500226</td>\n",
       "      <td>18.775961</td>\n",
       "      <td>4.906794</td>\n",
       "    </tr>\n",
       "    <tr>\n",
       "      <th>4</th>\n",
       "      <td>1.0</td>\n",
       "      <td>11.066000</td>\n",
       "      <td>4.061280</td>\n",
       "      <td>1.574526</td>\n",
       "      <td>0.456390</td>\n",
       "      <td>31.117833</td>\n",
       "      <td>18.102720</td>\n",
       "      <td>19.272981</td>\n",
       "      <td>4.312196</td>\n",
       "    </tr>\n",
       "  </tbody>\n",
       "</table>\n",
       "</div>\n",
       "      <button class=\"colab-df-convert\" onclick=\"convertToInteractive('df-5bf0d033-bd82-4718-aa77-02dabc034508')\"\n",
       "              title=\"Convert this dataframe to an interactive table.\"\n",
       "              style=\"display:none;\">\n",
       "        \n",
       "  <svg xmlns=\"http://www.w3.org/2000/svg\" height=\"24px\"viewBox=\"0 0 24 24\"\n",
       "       width=\"24px\">\n",
       "    <path d=\"M0 0h24v24H0V0z\" fill=\"none\"/>\n",
       "    <path d=\"M18.56 5.44l.94 2.06.94-2.06 2.06-.94-2.06-.94-.94-2.06-.94 2.06-2.06.94zm-11 1L8.5 8.5l.94-2.06 2.06-.94-2.06-.94L8.5 2.5l-.94 2.06-2.06.94zm10 10l.94 2.06.94-2.06 2.06-.94-2.06-.94-.94-2.06-.94 2.06-2.06.94z\"/><path d=\"M17.41 7.96l-1.37-1.37c-.4-.4-.92-.59-1.43-.59-.52 0-1.04.2-1.43.59L10.3 9.45l-7.72 7.72c-.78.78-.78 2.05 0 2.83L4 21.41c.39.39.9.59 1.41.59.51 0 1.02-.2 1.41-.59l7.78-7.78 2.81-2.81c.8-.78.8-2.07 0-2.86zM5.41 20L4 18.59l7.72-7.72 1.47 1.35L5.41 20z\"/>\n",
       "  </svg>\n",
       "      </button>\n",
       "      \n",
       "  <style>\n",
       "    .colab-df-container {\n",
       "      display:flex;\n",
       "      flex-wrap:wrap;\n",
       "      gap: 12px;\n",
       "    }\n",
       "\n",
       "    .colab-df-convert {\n",
       "      background-color: #E8F0FE;\n",
       "      border: none;\n",
       "      border-radius: 50%;\n",
       "      cursor: pointer;\n",
       "      display: none;\n",
       "      fill: #1967D2;\n",
       "      height: 32px;\n",
       "      padding: 0 0 0 0;\n",
       "      width: 32px;\n",
       "    }\n",
       "\n",
       "    .colab-df-convert:hover {\n",
       "      background-color: #E2EBFA;\n",
       "      box-shadow: 0px 1px 2px rgba(60, 64, 67, 0.3), 0px 1px 3px 1px rgba(60, 64, 67, 0.15);\n",
       "      fill: #174EA6;\n",
       "    }\n",
       "\n",
       "    [theme=dark] .colab-df-convert {\n",
       "      background-color: #3B4455;\n",
       "      fill: #D2E3FC;\n",
       "    }\n",
       "\n",
       "    [theme=dark] .colab-df-convert:hover {\n",
       "      background-color: #434B5C;\n",
       "      box-shadow: 0px 1px 3px 1px rgba(0, 0, 0, 0.15);\n",
       "      filter: drop-shadow(0px 1px 2px rgba(0, 0, 0, 0.3));\n",
       "      fill: #FFFFFF;\n",
       "    }\n",
       "  </style>\n",
       "\n",
       "      <script>\n",
       "        const buttonEl =\n",
       "          document.querySelector('#df-5bf0d033-bd82-4718-aa77-02dabc034508 button.colab-df-convert');\n",
       "        buttonEl.style.display =\n",
       "          google.colab.kernel.accessAllowed ? 'block' : 'none';\n",
       "\n",
       "        async function convertToInteractive(key) {\n",
       "          const element = document.querySelector('#df-5bf0d033-bd82-4718-aa77-02dabc034508');\n",
       "          const dataTable =\n",
       "            await google.colab.kernel.invokeFunction('convertToInteractive',\n",
       "                                                     [key], {});\n",
       "          if (!dataTable) return;\n",
       "\n",
       "          const docLinkHtml = 'Like what you see? Visit the ' +\n",
       "            '<a target=\"_blank\" href=https://colab.research.google.com/notebooks/data_table.ipynb>data table notebook</a>'\n",
       "            + ' to learn more about interactive tables.';\n",
       "          element.innerHTML = '';\n",
       "          dataTable['output_type'] = 'display_data';\n",
       "          await google.colab.output.renderOutput(dataTable, element);\n",
       "          const docLink = document.createElement('div');\n",
       "          docLink.innerHTML = docLinkHtml;\n",
       "          element.appendChild(docLink);\n",
       "        }\n",
       "      </script>\n",
       "    </div>\n",
       "  </div>\n",
       "  "
      ],
      "text/plain": [
       "   pedestrian_ID      pos_x     pos_y       v_x       v_y  \\\n",
       "0            1.0   8.456844  3.588066  1.671714  0.176292   \n",
       "1            1.0   9.125530  3.658583  1.662877  0.326723   \n",
       "2            1.0   9.787146  3.849445  1.683334  0.371084   \n",
       "3            1.0  10.472197  3.955450  1.598568  0.264795   \n",
       "4            1.0  11.066000  4.061280  1.574526  0.456390   \n",
       "\n",
       "   euclidean_distance_1_destination  euclidean_distance_2_destination  \\\n",
       "0                         28.547123                         15.453889   \n",
       "1                         29.208351                         16.121264   \n",
       "2                         29.854694                         16.808820   \n",
       "3                         30.531446                         17.500226   \n",
       "4                         31.117833                         18.102720   \n",
       "\n",
       "   euclidean_distance_3_destination  euclidean_distance_4_destination  \n",
       "0                         17.143920                          6.938212  \n",
       "1                         17.699584                          6.278376  \n",
       "2                         18.203441                          5.590079  \n",
       "3                         18.775961                          4.906794  \n",
       "4                         19.272981                          4.312196  "
      ]
     },
     "execution_count": 65,
     "metadata": {},
     "output_type": "execute_result"
    }
   ],
   "source": [
    "new_data.head()"
   ]
  },
  {
   "cell_type": "code",
   "execution_count": 137,
   "metadata": {
    "colab": {
     "base_uri": "https://localhost:8080/"
    },
    "id": "p1ALKnA_WbAa",
    "outputId": "70fda6e8-c1a3-4efa-c519-a81184452a5d"
   },
   "outputs": [
    {
     "data": {
      "text/plain": [
       "array([  1.,   2.,   3.,   4.,   5.,   6.,   7.,   8.,   9.,  10.,  11.,\n",
       "        12.,  13.,  14.,  15.,  16.,  17.,  18.,  20.,  21.,  22.,  23.,\n",
       "        24.,  25.,  26.,  27.,  28.,  29.,  30.,  31.,  33.,  34.,  35.,\n",
       "        36.,  37.,  38.,  39.,  40.,  41.,  42.,  43.,  44.,  45.,  46.,\n",
       "        47.,  48.,  49.,  50.,  51.,  52.,  53.,  54.,  55.,  56.,  57.,\n",
       "        58.,  59.,  60.,  61.,  62.,  63.,  64.,  65.,  66.,  67.,  68.,\n",
       "        69.,  70.,  71.,  72.,  73.,  74.,  75.,  76.,  77.,  78.,  79.,\n",
       "        80.,  81.,  82.,  83.,  84.,  85.,  86.,  87.,  88.,  89.,  90.,\n",
       "        91.,  92.,  93.,  94.,  95.,  96.,  97.,  98.,  99., 100., 101.,\n",
       "       103., 104., 105., 106., 107., 108., 109., 110., 111., 112., 113.,\n",
       "       114., 115., 116., 117., 118., 119., 120., 121., 122., 123., 124.,\n",
       "       125., 126., 127., 128., 129., 130., 131., 132., 133., 134., 135.,\n",
       "       136., 137., 138., 139., 140., 141., 142., 143., 144., 145., 146.,\n",
       "       147., 148., 149., 150., 151., 152., 153., 154., 155., 156., 157.,\n",
       "       159., 160., 161., 162., 163., 164., 166., 167., 168., 169., 170.,\n",
       "       171., 172., 173., 174., 175., 176., 177., 178., 179., 180., 181.,\n",
       "       182., 183., 184., 185., 186., 187., 188., 189., 190., 191., 192.,\n",
       "       193., 194., 195., 196., 197., 198., 199., 200., 201., 202., 203.,\n",
       "       204., 205., 206., 207., 208., 209., 210., 211., 212., 213., 214.,\n",
       "       215., 216., 217., 218., 219., 220., 221., 222., 223., 224., 226.,\n",
       "       227., 228., 229., 230., 231., 232., 233., 234., 235., 236., 237.,\n",
       "       238., 239., 240., 241., 242., 243., 244., 245., 246., 247., 248.,\n",
       "       249., 250., 251., 252., 253., 254., 255., 256., 257., 258., 259.,\n",
       "       260., 261., 262., 263., 264., 265., 266., 267., 268., 269., 270.,\n",
       "       272., 273., 274., 275., 276., 277., 278., 279., 280., 281., 282.,\n",
       "       283., 284., 285., 286., 287., 288., 289., 290., 291., 292., 293.,\n",
       "       294., 295., 296., 297., 298., 299., 300., 301., 302., 303., 304.,\n",
       "       305., 306., 307., 308., 309., 310., 311., 312., 313., 314., 315.,\n",
       "       316., 317., 318., 319., 320., 321., 322., 323., 324., 325., 326.,\n",
       "       327., 328., 329., 330., 331., 332., 333., 334., 335., 336., 337.,\n",
       "       338., 339., 340., 341., 342., 343., 344., 345., 346., 347., 348.,\n",
       "       349., 350., 351., 352., 353., 354., 355., 356., 357., 358., 359.,\n",
       "       360., 361., 362., 363., 364., 365., 366., 367.])"
      ]
     },
     "execution_count": 137,
     "metadata": {},
     "output_type": "execute_result"
    }
   ],
   "source": [
    "np.unique(new_data['pedestrian_ID'])"
   ]
  },
  {
   "cell_type": "markdown",
   "metadata": {
    "id": "AQnqYrCBOjLn"
   },
   "source": [
    "_____________Making the data appropriate for the models__________"
   ]
  },
  {
   "cell_type": "code",
   "execution_count": 66,
   "metadata": {
    "id": "okPwG2WpO6YM"
   },
   "outputs": [],
   "source": [
    "n_steps_in, n_steps_out = 8, 12 # number of input / number of outputs"
   ]
  },
  {
   "cell_type": "code",
   "execution_count": 67,
   "metadata": {
    "id": "WVZE96vrOolH"
   },
   "outputs": [],
   "source": [
    "# taking only posx and posy\n",
    "def MakeInputOutput(dataset):\n",
    "    # this method will make the base line model dataset which is basically x and y value itself.\n",
    "    unique_ids = list(np.unique(dataset['pedestrian_ID']))\n",
    "    X_values = dataset['pos_x']\n",
    "    Y_values = dataset['pos_y']\n",
    "    X_values = np.array(X_values).reshape((len(X_values), 1))\n",
    "    Y_values = np.array(Y_values).reshape((len(Y_values), 1))\n",
    "    stack = np.hstack((X_values,Y_values))\n",
    "    return stack"
   ]
  },
  {
   "cell_type": "code",
   "execution_count": 102,
   "metadata": {
    "id": "QWk_gX7aOqjC"
   },
   "outputs": [],
   "source": [
    "# split a multivariate sequence into samples\n",
    "def split_sequences(sequences, n_steps_in, n_steps_out):\n",
    "    # this function will make the sequence feature and output. in this method I am basically trying to convert time series into supervised structure where the input of first 8 sequence in time series would be the predicted 12 points\n",
    "\tX, y = list(), list()\n",
    "\tfor i in range(len(sequences)):\n",
    "\t\t# find the end of this pattern\n",
    "\t\tend_ix = i + n_steps_in\n",
    "\t\tout_end_ix = end_ix + n_steps_out\n",
    "\t\t# check if we are beyond the dataset\n",
    "\t\tif out_end_ix > len(sequences):\n",
    "\t\t\tbreak\n",
    "\t\t# gather input and output parts of the pattern\n",
    "\t\tseq_x, seq_y = sequences[i:end_ix, :], sequences[end_ix:out_end_ix, :]\n",
    "\t\tX.append(seq_x)\n",
    "\t\ty.append(seq_y)\n",
    "\treturn np.array(X), np.array(y)"
   ]
  },
  {
   "cell_type": "code",
   "execution_count": 71,
   "metadata": {
    "id": "3rK-RabDPAw5"
   },
   "outputs": [],
   "source": [
    "def addNewFeature(X_old, column, dataset):\n",
    "    # this function i have made in order to add more feature and correspondly train and predict the model\n",
    "    new_X = [] # current feature\n",
    "    All_feature = [] # whole feature dataset\n",
    "    #for i in columns:\n",
    "    new_x = np.array(dataset[column])\n",
    "    if sum(np.isnan(new_x))>0:\n",
    "        new_x = np.nan_to_num(new_x)\n",
    "    # converting to the n_setpes in features\n",
    "    for i in range(len(new_x)):\n",
    "        end_idx = i + n_steps_in\n",
    "        seqx = new_x[i:end_idx]\n",
    "        new_X.append(seqx)\n",
    "    for i in range(len(X_old)):\n",
    "        x = new_X[i].reshape(n_steps_in,1)\n",
    "        new_feature_array   = np.append(X_old[i],x,axis=1)\n",
    "        All_feature.append(new_feature_array)\n",
    "    print(\"INFO: allnew features has been added\")\n",
    "    return np.array(All_feature)"
   ]
  },
  {
   "cell_type": "code",
   "execution_count": 132,
   "metadata": {
    "id": "eyRO1rzoWyhg"
   },
   "outputs": [],
   "source": [
    "def load_models():\n",
    "    model1 = load_model('/content/drive/MyDrive/CNNLSTM_model')\n",
    "    model2 = load_model('/content/drive/MyDrive/GRU_model')\n",
    "    model3 = load_model('/content/drive/MyDrive/MultiEndec_model')\n",
    "    return model1, model2, model3"
   ]
  },
  {
   "cell_type": "code",
   "execution_count": 133,
   "metadata": {
    "id": "PyDQbOKEa1j2"
   },
   "outputs": [],
   "source": [
    "model1, model2, model3 = load_models()"
   ]
  },
  {
   "cell_type": "markdown",
   "metadata": {
    "id": "3K1CmhauWmjg"
   },
   "source": [
    "# selecting padestrian 71 for the further visualization"
   ]
  },
  {
   "cell_type": "code",
   "execution_count": 144,
   "metadata": {
    "id": "saVYXuWLWWVV"
   },
   "outputs": [],
   "source": [
    "pad_71 = new_data[new_data['pedestrian_ID']==71.0]"
   ]
  },
  {
   "cell_type": "code",
   "execution_count": 152,
   "metadata": {
    "colab": {
     "base_uri": "https://localhost:8080/",
     "height": 960
    },
    "id": "oVGWDd8hX3Vd",
    "outputId": "b3f79f3c-1138-468f-aba6-cc7f46794ca8"
   },
   "outputs": [
    {
     "data": {
      "text/html": [
       "\n",
       "  <div id=\"df-7a562954-b603-4b1d-92c2-377dfef89190\">\n",
       "    <div class=\"colab-df-container\">\n",
       "      <div>\n",
       "<style scoped>\n",
       "    .dataframe tbody tr th:only-of-type {\n",
       "        vertical-align: middle;\n",
       "    }\n",
       "\n",
       "    .dataframe tbody tr th {\n",
       "        vertical-align: top;\n",
       "    }\n",
       "\n",
       "    .dataframe thead th {\n",
       "        text-align: right;\n",
       "    }\n",
       "</style>\n",
       "<table border=\"1\" class=\"dataframe\">\n",
       "  <thead>\n",
       "    <tr style=\"text-align: right;\">\n",
       "      <th></th>\n",
       "      <th>pedestrian_ID</th>\n",
       "      <th>pos_x</th>\n",
       "      <th>pos_y</th>\n",
       "      <th>v_x</th>\n",
       "      <th>v_y</th>\n",
       "      <th>euclidean_distance_1_destination</th>\n",
       "      <th>euclidean_distance_2_destination</th>\n",
       "      <th>euclidean_distance_3_destination</th>\n",
       "      <th>euclidean_distance_4_destination</th>\n",
       "    </tr>\n",
       "  </thead>\n",
       "  <tbody>\n",
       "    <tr>\n",
       "      <th>1457</th>\n",
       "      <td>71.0</td>\n",
       "      <td>-2.409847</td>\n",
       "      <td>5.291040</td>\n",
       "      <td>1.515675</td>\n",
       "      <td>0.063607</td>\n",
       "      <td>17.599243</td>\n",
       "      <td>6.691778</td>\n",
       "      <td>7.773987</td>\n",
       "      <td>17.519175</td>\n",
       "    </tr>\n",
       "    <tr>\n",
       "      <th>1462</th>\n",
       "      <td>71.0</td>\n",
       "      <td>-1.803577</td>\n",
       "      <td>5.316482</td>\n",
       "      <td>1.499630</td>\n",
       "      <td>0.005207</td>\n",
       "      <td>18.204437</td>\n",
       "      <td>7.105134</td>\n",
       "      <td>8.092897</td>\n",
       "      <td>16.912588</td>\n",
       "    </tr>\n",
       "    <tr>\n",
       "      <th>1467</th>\n",
       "      <td>71.0</td>\n",
       "      <td>-1.210144</td>\n",
       "      <td>5.295205</td>\n",
       "      <td>1.213228</td>\n",
       "      <td>0.014352</td>\n",
       "      <td>18.798241</td>\n",
       "      <td>7.502885</td>\n",
       "      <td>8.471484</td>\n",
       "      <td>16.319560</td>\n",
       "    </tr>\n",
       "    <tr>\n",
       "      <th>1472</th>\n",
       "      <td>71.0</td>\n",
       "      <td>-0.832995</td>\n",
       "      <td>5.327964</td>\n",
       "      <td>1.135272</td>\n",
       "      <td>0.074236</td>\n",
       "      <td>19.174294</td>\n",
       "      <td>7.799836</td>\n",
       "      <td>8.689684</td>\n",
       "      <td>15.941942</td>\n",
       "    </tr>\n",
       "    <tr>\n",
       "      <th>1477</th>\n",
       "      <td>71.0</td>\n",
       "      <td>-0.301926</td>\n",
       "      <td>5.354595</td>\n",
       "      <td>1.448082</td>\n",
       "      <td>0.061295</td>\n",
       "      <td>19.704470</td>\n",
       "      <td>8.216780</td>\n",
       "      <td>9.029005</td>\n",
       "      <td>15.410546</td>\n",
       "    </tr>\n",
       "    <tr>\n",
       "      <th>1485</th>\n",
       "      <td>71.0</td>\n",
       "      <td>0.325471</td>\n",
       "      <td>5.377000</td>\n",
       "      <td>1.611034</td>\n",
       "      <td>-0.059575</td>\n",
       "      <td>20.331129</td>\n",
       "      <td>8.719930</td>\n",
       "      <td>9.458960</td>\n",
       "      <td>14.782907</td>\n",
       "    </tr>\n",
       "    <tr>\n",
       "      <th>1493</th>\n",
       "      <td>71.0</td>\n",
       "      <td>0.986901</td>\n",
       "      <td>5.306934</td>\n",
       "      <td>1.398645</td>\n",
       "      <td>-0.052508</td>\n",
       "      <td>20.994098</td>\n",
       "      <td>9.213244</td>\n",
       "      <td>9.996307</td>\n",
       "      <td>14.122645</td>\n",
       "    </tr>\n",
       "    <tr>\n",
       "      <th>1501</th>\n",
       "      <td>71.0</td>\n",
       "      <td>1.444387</td>\n",
       "      <td>5.334993</td>\n",
       "      <td>0.959157</td>\n",
       "      <td>0.188458</td>\n",
       "      <td>21.450730</td>\n",
       "      <td>9.608381</td>\n",
       "      <td>10.328067</td>\n",
       "      <td>13.664735</td>\n",
       "    </tr>\n",
       "    <tr>\n",
       "      <th>1509</th>\n",
       "      <td>71.0</td>\n",
       "      <td>1.754227</td>\n",
       "      <td>5.457701</td>\n",
       "      <td>1.062678</td>\n",
       "      <td>0.071309</td>\n",
       "      <td>21.757884</td>\n",
       "      <td>9.934994</td>\n",
       "      <td>10.494479</td>\n",
       "      <td>13.353383</td>\n",
       "    </tr>\n",
       "    <tr>\n",
       "      <th>1517</th>\n",
       "      <td>71.0</td>\n",
       "      <td>2.294529</td>\n",
       "      <td>5.392041</td>\n",
       "      <td>1.285153</td>\n",
       "      <td>-0.105653</td>\n",
       "      <td>22.299369</td>\n",
       "      <td>10.359024</td>\n",
       "      <td>10.965920</td>\n",
       "      <td>12.813821</td>\n",
       "    </tr>\n",
       "    <tr>\n",
       "      <th>1525</th>\n",
       "      <td>71.0</td>\n",
       "      <td>2.782349</td>\n",
       "      <td>5.373178</td>\n",
       "      <td>1.047437</td>\n",
       "      <td>0.179386</td>\n",
       "      <td>22.787478</td>\n",
       "      <td>10.771032</td>\n",
       "      <td>11.374017</td>\n",
       "      <td>12.326329</td>\n",
       "    </tr>\n",
       "    <tr>\n",
       "      <th>1532</th>\n",
       "      <td>71.0</td>\n",
       "      <td>3.132480</td>\n",
       "      <td>5.535550</td>\n",
       "      <td>1.038024</td>\n",
       "      <td>0.233001</td>\n",
       "      <td>23.134707</td>\n",
       "      <td>11.155758</td>\n",
       "      <td>11.573548</td>\n",
       "      <td>11.974730</td>\n",
       "    </tr>\n",
       "    <tr>\n",
       "      <th>1539</th>\n",
       "      <td>71.0</td>\n",
       "      <td>3.612769</td>\n",
       "      <td>5.559579</td>\n",
       "      <td>1.368622</td>\n",
       "      <td>0.052328</td>\n",
       "      <td>23.614637</td>\n",
       "      <td>11.588120</td>\n",
       "      <td>11.965778</td>\n",
       "      <td>11.494404</td>\n",
       "    </tr>\n",
       "    <tr>\n",
       "      <th>1546</th>\n",
       "      <td>71.0</td>\n",
       "      <td>4.227377</td>\n",
       "      <td>5.577412</td>\n",
       "      <td>0.840682</td>\n",
       "      <td>0.235570</td>\n",
       "      <td>24.228986</td>\n",
       "      <td>12.140852</td>\n",
       "      <td>12.483257</td>\n",
       "      <td>10.879800</td>\n",
       "    </tr>\n",
       "    <tr>\n",
       "      <th>1553</th>\n",
       "      <td>71.0</td>\n",
       "      <td>4.285314</td>\n",
       "      <td>5.748035</td>\n",
       "      <td>0.651261</td>\n",
       "      <td>0.187647</td>\n",
       "      <td>24.285557</td>\n",
       "      <td>12.270578</td>\n",
       "      <td>12.448580</td>\n",
       "      <td>10.823389</td>\n",
       "    </tr>\n",
       "    <tr>\n",
       "      <th>1560</th>\n",
       "      <td>71.0</td>\n",
       "      <td>4.748386</td>\n",
       "      <td>5.727530</td>\n",
       "      <td>1.217443</td>\n",
       "      <td>0.106143</td>\n",
       "      <td>24.748722</td>\n",
       "      <td>12.673644</td>\n",
       "      <td>12.863628</td>\n",
       "      <td>10.360046</td>\n",
       "    </tr>\n",
       "    <tr>\n",
       "      <th>1567</th>\n",
       "      <td>71.0</td>\n",
       "      <td>5.259269</td>\n",
       "      <td>5.832949</td>\n",
       "      <td>1.265120</td>\n",
       "      <td>0.208912</td>\n",
       "      <td>25.259280</td>\n",
       "      <td>13.178488</td>\n",
       "      <td>13.266507</td>\n",
       "      <td>9.851522</td>\n",
       "    </tr>\n",
       "    <tr>\n",
       "      <th>1574</th>\n",
       "      <td>71.0</td>\n",
       "      <td>5.760481</td>\n",
       "      <td>5.894659</td>\n",
       "      <td>1.296713</td>\n",
       "      <td>0.098153</td>\n",
       "      <td>25.760509</td>\n",
       "      <td>13.657146</td>\n",
       "      <td>13.687720</td>\n",
       "      <td>9.352469</td>\n",
       "    </tr>\n",
       "    <tr>\n",
       "      <th>1581</th>\n",
       "      <td>71.0</td>\n",
       "      <td>6.296639</td>\n",
       "      <td>5.911472</td>\n",
       "      <td>1.339519</td>\n",
       "      <td>0.197784</td>\n",
       "      <td>26.296696</td>\n",
       "      <td>14.150805</td>\n",
       "      <td>14.164992</td>\n",
       "      <td>8.817306</td>\n",
       "    </tr>\n",
       "    <tr>\n",
       "      <th>1590</th>\n",
       "      <td>71.0</td>\n",
       "      <td>6.832096</td>\n",
       "      <td>6.052886</td>\n",
       "      <td>1.266512</td>\n",
       "      <td>0.198776</td>\n",
       "      <td>26.832814</td>\n",
       "      <td>14.697147</td>\n",
       "      <td>14.595634</td>\n",
       "      <td>8.289390</td>\n",
       "    </tr>\n",
       "    <tr>\n",
       "      <th>1599</th>\n",
       "      <td>71.0</td>\n",
       "      <td>7.309849</td>\n",
       "      <td>6.070493</td>\n",
       "      <td>1.239593</td>\n",
       "      <td>0.041030</td>\n",
       "      <td>27.310686</td>\n",
       "      <td>15.141686</td>\n",
       "      <td>15.028241</td>\n",
       "      <td>7.813631</td>\n",
       "    </tr>\n",
       "    <tr>\n",
       "      <th>1608</th>\n",
       "      <td>71.0</td>\n",
       "      <td>7.823771</td>\n",
       "      <td>6.085711</td>\n",
       "      <td>1.333069</td>\n",
       "      <td>0.136839</td>\n",
       "      <td>27.824714</td>\n",
       "      <td>15.620657</td>\n",
       "      <td>15.497974</td>\n",
       "      <td>7.301923</td>\n",
       "    </tr>\n",
       "    <tr>\n",
       "      <th>1617</th>\n",
       "      <td>71.0</td>\n",
       "      <td>8.376304</td>\n",
       "      <td>6.179964</td>\n",
       "      <td>1.363247</td>\n",
       "      <td>0.082387</td>\n",
       "      <td>28.378146</td>\n",
       "      <td>16.167325</td>\n",
       "      <td>15.978150</td>\n",
       "      <td>6.758817</td>\n",
       "    </tr>\n",
       "    <tr>\n",
       "      <th>1627</th>\n",
       "      <td>71.0</td>\n",
       "      <td>8.914369</td>\n",
       "      <td>6.151620</td>\n",
       "      <td>1.287008</td>\n",
       "      <td>-0.017526</td>\n",
       "      <td>28.915874</td>\n",
       "      <td>16.656293</td>\n",
       "      <td>16.491888</td>\n",
       "      <td>6.220436</td>\n",
       "    </tr>\n",
       "    <tr>\n",
       "      <th>1637</th>\n",
       "      <td>71.0</td>\n",
       "      <td>9.405910</td>\n",
       "      <td>6.165943</td>\n",
       "      <td>1.224849</td>\n",
       "      <td>0.135117</td>\n",
       "      <td>29.407537</td>\n",
       "      <td>17.119889</td>\n",
       "      <td>16.948995</td>\n",
       "      <td>5.732747</td>\n",
       "    </tr>\n",
       "    <tr>\n",
       "      <th>1647</th>\n",
       "      <td>71.0</td>\n",
       "      <td>9.894248</td>\n",
       "      <td>6.259714</td>\n",
       "      <td>1.300136</td>\n",
       "      <td>-0.019682</td>\n",
       "      <td>29.896966</td>\n",
       "      <td>17.609799</td>\n",
       "      <td>17.379164</td>\n",
       "      <td>5.258888</td>\n",
       "    </tr>\n",
       "    <tr>\n",
       "      <th>1657</th>\n",
       "      <td>71.0</td>\n",
       "      <td>10.446019</td>\n",
       "      <td>6.150197</td>\n",
       "      <td>1.379426</td>\n",
       "      <td>-0.273793</td>\n",
       "      <td>30.447435</td>\n",
       "      <td>18.090221</td>\n",
       "      <td>17.936913</td>\n",
       "      <td>4.697628</td>\n",
       "    </tr>\n",
       "  </tbody>\n",
       "</table>\n",
       "</div>\n",
       "      <button class=\"colab-df-convert\" onclick=\"convertToInteractive('df-7a562954-b603-4b1d-92c2-377dfef89190')\"\n",
       "              title=\"Convert this dataframe to an interactive table.\"\n",
       "              style=\"display:none;\">\n",
       "        \n",
       "  <svg xmlns=\"http://www.w3.org/2000/svg\" height=\"24px\"viewBox=\"0 0 24 24\"\n",
       "       width=\"24px\">\n",
       "    <path d=\"M0 0h24v24H0V0z\" fill=\"none\"/>\n",
       "    <path d=\"M18.56 5.44l.94 2.06.94-2.06 2.06-.94-2.06-.94-.94-2.06-.94 2.06-2.06.94zm-11 1L8.5 8.5l.94-2.06 2.06-.94-2.06-.94L8.5 2.5l-.94 2.06-2.06.94zm10 10l.94 2.06.94-2.06 2.06-.94-2.06-.94-.94-2.06-.94 2.06-2.06.94z\"/><path d=\"M17.41 7.96l-1.37-1.37c-.4-.4-.92-.59-1.43-.59-.52 0-1.04.2-1.43.59L10.3 9.45l-7.72 7.72c-.78.78-.78 2.05 0 2.83L4 21.41c.39.39.9.59 1.41.59.51 0 1.02-.2 1.41-.59l7.78-7.78 2.81-2.81c.8-.78.8-2.07 0-2.86zM5.41 20L4 18.59l7.72-7.72 1.47 1.35L5.41 20z\"/>\n",
       "  </svg>\n",
       "      </button>\n",
       "      \n",
       "  <style>\n",
       "    .colab-df-container {\n",
       "      display:flex;\n",
       "      flex-wrap:wrap;\n",
       "      gap: 12px;\n",
       "    }\n",
       "\n",
       "    .colab-df-convert {\n",
       "      background-color: #E8F0FE;\n",
       "      border: none;\n",
       "      border-radius: 50%;\n",
       "      cursor: pointer;\n",
       "      display: none;\n",
       "      fill: #1967D2;\n",
       "      height: 32px;\n",
       "      padding: 0 0 0 0;\n",
       "      width: 32px;\n",
       "    }\n",
       "\n",
       "    .colab-df-convert:hover {\n",
       "      background-color: #E2EBFA;\n",
       "      box-shadow: 0px 1px 2px rgba(60, 64, 67, 0.3), 0px 1px 3px 1px rgba(60, 64, 67, 0.15);\n",
       "      fill: #174EA6;\n",
       "    }\n",
       "\n",
       "    [theme=dark] .colab-df-convert {\n",
       "      background-color: #3B4455;\n",
       "      fill: #D2E3FC;\n",
       "    }\n",
       "\n",
       "    [theme=dark] .colab-df-convert:hover {\n",
       "      background-color: #434B5C;\n",
       "      box-shadow: 0px 1px 3px 1px rgba(0, 0, 0, 0.15);\n",
       "      filter: drop-shadow(0px 1px 2px rgba(0, 0, 0, 0.3));\n",
       "      fill: #FFFFFF;\n",
       "    }\n",
       "  </style>\n",
       "\n",
       "      <script>\n",
       "        const buttonEl =\n",
       "          document.querySelector('#df-7a562954-b603-4b1d-92c2-377dfef89190 button.colab-df-convert');\n",
       "        buttonEl.style.display =\n",
       "          google.colab.kernel.accessAllowed ? 'block' : 'none';\n",
       "\n",
       "        async function convertToInteractive(key) {\n",
       "          const element = document.querySelector('#df-7a562954-b603-4b1d-92c2-377dfef89190');\n",
       "          const dataTable =\n",
       "            await google.colab.kernel.invokeFunction('convertToInteractive',\n",
       "                                                     [key], {});\n",
       "          if (!dataTable) return;\n",
       "\n",
       "          const docLinkHtml = 'Like what you see? Visit the ' +\n",
       "            '<a target=\"_blank\" href=https://colab.research.google.com/notebooks/data_table.ipynb>data table notebook</a>'\n",
       "            + ' to learn more about interactive tables.';\n",
       "          element.innerHTML = '';\n",
       "          dataTable['output_type'] = 'display_data';\n",
       "          await google.colab.output.renderOutput(dataTable, element);\n",
       "          const docLink = document.createElement('div');\n",
       "          docLink.innerHTML = docLinkHtml;\n",
       "          element.appendChild(docLink);\n",
       "        }\n",
       "      </script>\n",
       "    </div>\n",
       "  </div>\n",
       "  "
      ],
      "text/plain": [
       "      pedestrian_ID      pos_x     pos_y       v_x       v_y  \\\n",
       "1457           71.0  -2.409847  5.291040  1.515675  0.063607   \n",
       "1462           71.0  -1.803577  5.316482  1.499630  0.005207   \n",
       "1467           71.0  -1.210144  5.295205  1.213228  0.014352   \n",
       "1472           71.0  -0.832995  5.327964  1.135272  0.074236   \n",
       "1477           71.0  -0.301926  5.354595  1.448082  0.061295   \n",
       "1485           71.0   0.325471  5.377000  1.611034 -0.059575   \n",
       "1493           71.0   0.986901  5.306934  1.398645 -0.052508   \n",
       "1501           71.0   1.444387  5.334993  0.959157  0.188458   \n",
       "1509           71.0   1.754227  5.457701  1.062678  0.071309   \n",
       "1517           71.0   2.294529  5.392041  1.285153 -0.105653   \n",
       "1525           71.0   2.782349  5.373178  1.047437  0.179386   \n",
       "1532           71.0   3.132480  5.535550  1.038024  0.233001   \n",
       "1539           71.0   3.612769  5.559579  1.368622  0.052328   \n",
       "1546           71.0   4.227377  5.577412  0.840682  0.235570   \n",
       "1553           71.0   4.285314  5.748035  0.651261  0.187647   \n",
       "1560           71.0   4.748386  5.727530  1.217443  0.106143   \n",
       "1567           71.0   5.259269  5.832949  1.265120  0.208912   \n",
       "1574           71.0   5.760481  5.894659  1.296713  0.098153   \n",
       "1581           71.0   6.296639  5.911472  1.339519  0.197784   \n",
       "1590           71.0   6.832096  6.052886  1.266512  0.198776   \n",
       "1599           71.0   7.309849  6.070493  1.239593  0.041030   \n",
       "1608           71.0   7.823771  6.085711  1.333069  0.136839   \n",
       "1617           71.0   8.376304  6.179964  1.363247  0.082387   \n",
       "1627           71.0   8.914369  6.151620  1.287008 -0.017526   \n",
       "1637           71.0   9.405910  6.165943  1.224849  0.135117   \n",
       "1647           71.0   9.894248  6.259714  1.300136 -0.019682   \n",
       "1657           71.0  10.446019  6.150197  1.379426 -0.273793   \n",
       "\n",
       "      euclidean_distance_1_destination  euclidean_distance_2_destination  \\\n",
       "1457                         17.599243                          6.691778   \n",
       "1462                         18.204437                          7.105134   \n",
       "1467                         18.798241                          7.502885   \n",
       "1472                         19.174294                          7.799836   \n",
       "1477                         19.704470                          8.216780   \n",
       "1485                         20.331129                          8.719930   \n",
       "1493                         20.994098                          9.213244   \n",
       "1501                         21.450730                          9.608381   \n",
       "1509                         21.757884                          9.934994   \n",
       "1517                         22.299369                         10.359024   \n",
       "1525                         22.787478                         10.771032   \n",
       "1532                         23.134707                         11.155758   \n",
       "1539                         23.614637                         11.588120   \n",
       "1546                         24.228986                         12.140852   \n",
       "1553                         24.285557                         12.270578   \n",
       "1560                         24.748722                         12.673644   \n",
       "1567                         25.259280                         13.178488   \n",
       "1574                         25.760509                         13.657146   \n",
       "1581                         26.296696                         14.150805   \n",
       "1590                         26.832814                         14.697147   \n",
       "1599                         27.310686                         15.141686   \n",
       "1608                         27.824714                         15.620657   \n",
       "1617                         28.378146                         16.167325   \n",
       "1627                         28.915874                         16.656293   \n",
       "1637                         29.407537                         17.119889   \n",
       "1647                         29.896966                         17.609799   \n",
       "1657                         30.447435                         18.090221   \n",
       "\n",
       "      euclidean_distance_3_destination  euclidean_distance_4_destination  \n",
       "1457                          7.773987                         17.519175  \n",
       "1462                          8.092897                         16.912588  \n",
       "1467                          8.471484                         16.319560  \n",
       "1472                          8.689684                         15.941942  \n",
       "1477                          9.029005                         15.410546  \n",
       "1485                          9.458960                         14.782907  \n",
       "1493                          9.996307                         14.122645  \n",
       "1501                         10.328067                         13.664735  \n",
       "1509                         10.494479                         13.353383  \n",
       "1517                         10.965920                         12.813821  \n",
       "1525                         11.374017                         12.326329  \n",
       "1532                         11.573548                         11.974730  \n",
       "1539                         11.965778                         11.494404  \n",
       "1546                         12.483257                         10.879800  \n",
       "1553                         12.448580                         10.823389  \n",
       "1560                         12.863628                         10.360046  \n",
       "1567                         13.266507                          9.851522  \n",
       "1574                         13.687720                          9.352469  \n",
       "1581                         14.164992                          8.817306  \n",
       "1590                         14.595634                          8.289390  \n",
       "1599                         15.028241                          7.813631  \n",
       "1608                         15.497974                          7.301923  \n",
       "1617                         15.978150                          6.758817  \n",
       "1627                         16.491888                          6.220436  \n",
       "1637                         16.948995                          5.732747  \n",
       "1647                         17.379164                          5.258888  \n",
       "1657                         17.936913                          4.697628  "
      ]
     },
     "execution_count": 152,
     "metadata": {},
     "output_type": "execute_result"
    }
   ],
   "source": [
    "pad_71"
   ]
  },
  {
   "cell_type": "code",
   "execution_count": 155,
   "metadata": {
    "id": "DkrivnaEWyMi"
   },
   "outputs": [],
   "source": [
    "stack = MakeInputOutput(pad_71) # taking only X and y value for this moment"
   ]
  },
  {
   "cell_type": "code",
   "execution_count": 156,
   "metadata": {
    "id": "i-YI3x22XAl_"
   },
   "outputs": [],
   "source": [
    "X, y = split_sequences(stack, n_steps_in, n_steps_out)"
   ]
  },
  {
   "cell_type": "code",
   "execution_count": null,
   "metadata": {
    "id": "3Ky5rLThYPQH"
   },
   "outputs": [],
   "source": [
    "X"
   ]
  },
  {
   "cell_type": "code",
   "execution_count": 158,
   "metadata": {
    "colab": {
     "base_uri": "https://localhost:8080/"
    },
    "id": "WAVRtvcfXm-9",
    "outputId": "e769f84c-bc53-4394-e420-d1331eeef6f9"
   },
   "outputs": [
    {
     "name": "stdout",
     "output_type": "stream",
     "text": [
      "INFO: allnew features has been added\n",
      "INFO: allnew features has been added\n",
      "INFO: allnew features has been added\n",
      "INFO: allnew features has been added\n",
      "INFO: allnew features has been added\n",
      "INFO: allnew features has been added\n"
     ]
    }
   ],
   "source": [
    "# here i am just adding all the features\n",
    "for feature in feature_to_add:\n",
    "    new_X = addNewFeature(X,feature,pad_71)\n",
    "    X = new_X"
   ]
  },
  {
   "cell_type": "code",
   "execution_count": 161,
   "metadata": {
    "colab": {
     "base_uri": "https://localhost:8080/"
    },
    "id": "Kt9o15M0Xykj",
    "outputId": "46d81165-1b1f-4741-be4c-c0b651a21a5c"
   },
   "outputs": [
    {
     "name": "stdout",
     "output_type": "stream",
     "text": [
      "1/1 [==============================] - 0s 30ms/step\n",
      "1/1 [==============================] - 0s 24ms/step\n",
      "1/1 [==============================] - 0s 31ms/step\n"
     ]
    }
   ],
   "source": [
    "y_pred1 = model1.predict(X) # prediction for all the X values \n",
    "y_pred2 = model2.predict(X) # prediction for all the X values \n",
    "y_pred3 = model3.predict(X) # prediction for all the X values "
   ]
  },
  {
   "cell_type": "markdown",
   "metadata": {
    "id": "YekDwSNgYewK"
   },
   "source": []
  },
  {
   "cell_type": "code",
   "execution_count": 250,
   "metadata": {
    "id": "rd06MONeYaZZ"
   },
   "outputs": [],
   "source": [
    "def plot(models : [], X_feature, y_actual, figure_name):\n",
    "    # checking which model it is   \n",
    "    linestyle = ['.g','--r','-.k'] # 3 linetype for all three models\n",
    "    labels = [i.name for i in models]\n",
    "    plt.plot(y_actual[:, 0], y_actual[:, 1], '-.')\n",
    "    plt.title(\"Actual Y values\")\n",
    "    plt.axis('tight');\n",
    "    plt.xlabel('Actual posx values ')\n",
    "    plt.ylabel('Actual posy values')\n",
    "    plt.show()\n",
    "    try:\n",
    "        plt.savefig(f'_actual_{figure_name}.png')\n",
    "    except:\n",
    "        print('some error is coming while saving')\n",
    "    for i in range(len(models)):\n",
    "      pred = models[i].predict(X_feature)\n",
    "      plt.plot(pred[:, 0], pred[:, 1], linestyle[i])\n",
    "      plt.legend(bbox_to_anchor=(1.1, 1.05));\n",
    "      plt.title(labels[i])\n",
    "      plt.xlabel('Predicted posx values ')\n",
    "      plt.ylabel('Predicted posy values')\n",
    "      plt.axis('tight');\n",
    "      plt.show()\n",
    "    try:\n",
    "        plt.savefig(f'_predicted_{figure_name}.png')\n",
    "    except:\n",
    "        print('some error is coming while saving')\n",
    "    "
   ]
  },
  {
   "cell_type": "code",
   "execution_count": 251,
   "metadata": {
    "colab": {
     "base_uri": "https://localhost:8080/"
    },
    "id": "m-MYoxqiYyQp",
    "outputId": "9c1acb59-6c30-439b-b799-630841ed7869"
   },
   "outputs": [
    {
     "data": {
      "text/plain": [
       "((8, 8, 8), (8, 12, 2))"
      ]
     },
     "execution_count": 251,
     "metadata": {},
     "output_type": "execute_result"
    }
   ],
   "source": [
    "X.shape, y.shape"
   ]
  },
  {
   "cell_type": "code",
   "execution_count": 252,
   "metadata": {
    "colab": {
     "base_uri": "https://localhost:8080/",
     "height": 1000
    },
    "id": "8DqzZcRuXzzS",
    "outputId": "b33c4d8e-4bd0-45ff-d212-9507357c8c87"
   },
   "outputs": [
    {
     "data": {
      "image/png": "[encoded data removed]",
      "text/plain": [
       "<Figure size 432x288 with 1 Axes>"
      ]
     },
     "metadata": {
      "needs_background": "light"
     },
     "output_type": "display_data"
    },
    {
     "name": "stdout",
     "output_type": "stream",
     "text": [
      "1/1 [==============================] - 0s 39ms/step\n"
     ]
    },
    {
     "name": "stderr",
     "output_type": "stream",
     "text": [
      "WARNING:matplotlib.legend:No handles with labels found to put in legend.\n"
     ]
    },
    {
     "data": {
      "image/png": "[encoded data removed]",
      "text/plain": [
       "<Figure size 432x288 with 1 Axes>"
      ]
     },
     "metadata": {
      "needs_background": "light"
     },
     "output_type": "display_data"
    },
    {
     "name": "stdout",
     "output_type": "stream",
     "text": [
      "1/1 [==============================] - 0s 63ms/step\n"
     ]
    },
    {
     "name": "stderr",
     "output_type": "stream",
     "text": [
      "WARNING:matplotlib.legend:No handles with labels found to put in legend.\n"
     ]
    },
    {
     "data": {
      "image/png": "[encoded data removed]",
      "text/plain": [
       "<Figure size 432x288 with 1 Axes>"
      ]
     },
     "metadata": {
      "needs_background": "light"
     },
     "output_type": "display_data"
    },
    {
     "name": "stdout",
     "output_type": "stream",
     "text": [
      "1/1 [==============================] - 0s 53ms/step\n"
     ]
    },
    {
     "name": "stderr",
     "output_type": "stream",
     "text": [
      "WARNING:matplotlib.legend:No handles with labels found to put in legend.\n"
     ]
    },
    {
     "data": {
      "image/png": "[encoded data removed]",
      "text/plain": [
       "<Figure size 432x288 with 1 Axes>"
      ]
     },
     "metadata": {
      "needs_background": "light"
     },
     "output_type": "display_data"
    },
    {
     "data": {
      "text/plain": [
       "<Figure size 432x288 with 0 Axes>"
      ]
     },
     "metadata": {},
     "output_type": "display_data"
    }
   ],
   "source": [
    "plot([model1,model2,model3], X, y, 'pad71')"
   ]
  },
  {
   "cell_type": "code",
   "execution_count": 253,
   "metadata": {
    "id": "RpWXfRZnaXq4"
   },
   "outputs": [],
   "source": [
    "def any_padestrian_plot(padestrian_id):\n",
    "  try:\n",
    "    pad_data = new_data[new_data['pedestrian_ID']==float(padestrian_id)]\n",
    "    stack = MakeInputOutput(pad_data) # taking only X and y value for this moment\n",
    "    X, y = split_sequences(stack, n_steps_in, n_steps_out)\n",
    "    # here i am just adding all the features\n",
    "    for feature in feature_to_add:\n",
    "        new_X = addNewFeature(X,feature,pad_data)\n",
    "        X = new_X\n",
    "    plot([model1,model2,model3], X, y, f'{padestrian_id} plot')\n",
    "  except:\n",
    "    return 'may not enough data'"
   ]
  },
  {
   "cell_type": "code",
   "execution_count": 254,
   "metadata": {
    "colab": {
     "base_uri": "https://localhost:8080/",
     "height": 1000
    },
    "id": "4wquRC41elho",
    "outputId": "5cdc572c-6bc0-4bd1-a381-6af0cfd1fb11"
   },
   "outputs": [
    {
     "name": "stdout",
     "output_type": "stream",
     "text": [
      "INFO: allnew features has been added\n",
      "INFO: allnew features has been added\n",
      "INFO: allnew features has been added\n",
      "INFO: allnew features has been added\n",
      "INFO: allnew features has been added\n",
      "INFO: allnew features has been added\n"
     ]
    },
    {
     "data": {
      "image/png": "[encoded data removed]",
      "text/plain": [
       "<Figure size 432x288 with 1 Axes>"
      ]
     },
     "metadata": {
      "needs_background": "light"
     },
     "output_type": "display_data"
    },
    {
     "name": "stdout",
     "output_type": "stream",
     "text": [
      "1/1 [==============================] - 0s 21ms/step\n"
     ]
    },
    {
     "name": "stderr",
     "output_type": "stream",
     "text": [
      "WARNING:matplotlib.legend:No handles with labels found to put in legend.\n"
     ]
    },
    {
     "data": {
      "image/png": "[encoded data removed]",
      "text/plain": [
       "<Figure size 432x288 with 1 Axes>"
      ]
     },
     "metadata": {
      "needs_background": "light"
     },
     "output_type": "display_data"
    },
    {
     "name": "stdout",
     "output_type": "stream",
     "text": [
      "1/1 [==============================] - 0s 22ms/step\n"
     ]
    },
    {
     "name": "stderr",
     "output_type": "stream",
     "text": [
      "WARNING:matplotlib.legend:No handles with labels found to put in legend.\n"
     ]
    },
    {
     "data": {
      "image/png": "[encoded data removed]",
      "text/plain": [
       "<Figure size 432x288 with 1 Axes>"
      ]
     },
     "metadata": {
      "needs_background": "light"
     },
     "output_type": "display_data"
    },
    {
     "name": "stdout",
     "output_type": "stream",
     "text": [
      "1/1 [==============================] - 0s 29ms/step\n"
     ]
    },
    {
     "name": "stderr",
     "output_type": "stream",
     "text": [
      "WARNING:matplotlib.legend:No handles with labels found to put in legend.\n"
     ]
    },
    {
     "data": {
      "image/png": "[encoded data removed]",
      "text/plain": [
       "<Figure size 432x288 with 1 Axes>"
      ]
     },
     "metadata": {
      "needs_background": "light"
     },
     "output_type": "display_data"
    },
    {
     "data": {
      "text/plain": [
       "<Figure size 432x288 with 0 Axes>"
      ]
     },
     "metadata": {},
     "output_type": "display_data"
    }
   ],
   "source": [
    "any_padestrian_plot(111)"
   ]
  },
  {
   "cell_type": "code",
   "execution_count": 257,
   "metadata": {
    "colab": {
     "base_uri": "https://localhost:8080/",
     "height": 1000
    },
    "id": "A-sbo3E9erVK",
    "outputId": "565db11d-b84d-44b0-90af-0770d514f030"
   },
   "outputs": [
    {
     "name": "stdout",
     "output_type": "stream",
     "text": [
      "INFO: allnew features has been added\n",
      "INFO: allnew features has been added\n",
      "INFO: allnew features has been added\n",
      "INFO: allnew features has been added\n",
      "INFO: allnew features has been added\n",
      "INFO: allnew features has been added\n"
     ]
    },
    {
     "data": {
      "image/png": "[encoded data removed]",
      "text/plain": [
       "<Figure size 432x288 with 1 Axes>"
      ]
     },
     "metadata": {
      "needs_background": "light"
     },
     "output_type": "display_data"
    },
    {
     "name": "stdout",
     "output_type": "stream",
     "text": [
      "1/1 [==============================] - 0s 59ms/step\n"
     ]
    },
    {
     "name": "stderr",
     "output_type": "stream",
     "text": [
      "WARNING:matplotlib.legend:No handles with labels found to put in legend.\n"
     ]
    },
    {
     "data": {
      "image/png": "[encoded data removed]",
      "text/plain": [
       "<Figure size 432x288 with 1 Axes>"
      ]
     },
     "metadata": {
      "needs_background": "light"
     },
     "output_type": "display_data"
    },
    {
     "name": "stdout",
     "output_type": "stream",
     "text": [
      "1/1 [==============================] - 0s 22ms/step\n"
     ]
    },
    {
     "name": "stderr",
     "output_type": "stream",
     "text": [
      "WARNING:matplotlib.legend:No handles with labels found to put in legend.\n"
     ]
    },
    {
     "data": {
      "image/png": "[encoded data removed]",
      "text/plain": [
       "<Figure size 432x288 with 1 Axes>"
      ]
     },
     "metadata": {
      "needs_background": "light"
     },
     "output_type": "display_data"
    },
    {
     "name": "stdout",
     "output_type": "stream",
     "text": [
      "1/1 [==============================] - 0s 41ms/step\n"
     ]
    },
    {
     "name": "stderr",
     "output_type": "stream",
     "text": [
      "WARNING:matplotlib.legend:No handles with labels found to put in legend.\n"
     ]
    },
    {
     "data": {
      "image/png": "[encoded data removed]",
      "text/plain": [
       "<Figure size 432x288 with 1 Axes>"
      ]
     },
     "metadata": {
      "needs_background": "light"
     },
     "output_type": "display_data"
    },
    {
     "data": {
      "text/plain": [
       "<Figure size 432x288 with 0 Axes>"
      ]
     },
     "metadata": {},
     "output_type": "display_data"
    }
   ],
   "source": [
    "any_padestrian_plot(200)"
   ]
  },
  {
   "cell_type": "code",
   "execution_count": null,
   "metadata": {
    "id": "FpSSWdMrew8d"
   },
   "outputs": [],
   "source": []
  }
 ],
 "metadata": {
  "colab": {
   "provenance": []
  },
  "kernelspec": {
   "display_name": "Python 3 (ipykernel)",
   "language": "python",
   "name": "python3"
  },
  "language_info": {
   "codemirror_mode": {
    "name": "ipython",
    "version": 3
   },
   "file_extension": ".py",
   "mimetype": "text/x-python",
   "name": "python",
   "nbconvert_exporter": "python",
   "pygments_lexer": "ipython3",
   "version": "3.9.12"
  }
 },
 "nbformat": 4,
 "nbformat_minor": 1
}
